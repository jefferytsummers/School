{
 "cells": [
  {
   "cell_type": "code",
   "execution_count": 1988,
   "metadata": {
    "collapsed": true
   },
   "outputs": [],
   "source": [
    "from pandas import read_table\n",
    "from numpy import array, unique\n",
    "from keras import utils, Sequential, layers, losses, optimizers, callbacks\n",
    "import matplotlib.pyplot as plt\n",
    "%matplotlib inline"
   ]
  },
  {
   "cell_type": "code",
   "execution_count": 1989,
   "metadata": {
    "collapsed": true
   },
   "outputs": [],
   "source": [
    "batch_size       = 16\n",
    "epochs           = 2000\n",
    "validation_split = 0.1\n",
    "rate             = 0.4"
   ]
  },
  {
   "cell_type": "code",
   "execution_count": 1990,
   "metadata": {
    "collapsed": true
   },
   "outputs": [],
   "source": [
    "data = array(read_table(\"https://www.cs.mtsu.edu/~jphillips/courses/CSCI4850-5850/public/iris-data.txt\", delim_whitespace = True, header = None))"
   ]
  },
  {
   "cell_type": "code",
   "execution_count": 1991,
   "metadata": {
    "collapsed": true
   },
   "outputs": [],
   "source": [
    "X          = data[:, 0:4]\n",
    "input_size = X.shape[1]"
   ]
  },
  {
   "cell_type": "code",
   "execution_count": 1992,
   "metadata": {
    "collapsed": true
   },
   "outputs": [],
   "source": [
    "labels = data[:,4]"
   ]
  },
  {
   "cell_type": "code",
   "execution_count": 1993,
   "metadata": {
    "collapsed": true
   },
   "outputs": [],
   "source": [
    "Y           = utils.to_categorical(labels, len(unique(labels)))\n",
    "output_size = Y.shape[1]"
   ]
  },
  {
   "cell_type": "code",
   "execution_count": 2045,
   "metadata": {},
   "outputs": [
    {
     "name": "stdout",
     "output_type": "stream",
     "text": [
      "150/150 [==============================] - 0s 190us/step\n"
     ]
    }
   ],
   "source": [
    "model = Sequential()\n",
    "model.add(layers.Dense(output_size, activation = 'sigmoid', input_shape=[input_size]))\n",
    "model.compile(loss = losses.mse, optimizer = optimizers.SGD(lr = rate), metrics = ['accuracy'])"
   ]
  },
  {
   "cell_type": "code",
   "execution_count": 1995,
   "metadata": {
    "collapsed": true
   },
   "outputs": [],
   "source": [
    "#print_weights = callbacks.LambdaCallback(on_epoch_end=lambda batch, logs: print(model.layers[0].get_weights()))\n",
    "history = model.fit(X, Y, batch_size = batch_size, epochs = epochs, verbose = 0, validation_split = validation_split)#, callbacks = [print_weights])"
   ]
  },
  {
   "cell_type": "code",
   "execution_count": 2047,
   "metadata": {},
   "outputs": [
    {
     "data": {
      "image/png": "[encoded data removed]",
      "text/plain": [
       "<matplotlib.figure.Figure at 0x7fdb1d3083c8>"
      ]
     },
     "metadata": {},
     "output_type": "display_data"
    }
   ],
   "source": [
    "plt.figure(1)\n",
    "plt.subplot(211)\n",
    "plt.plot(history.history['acc'])\n",
    "plt.plot(history.history['val_acc'])\n",
    "plt.title('model accuracy')\n",
    "plt.ylabel('accuracy')\n",
    "plt.xlabel('epoch')\n",
    "plt.legend(['train', 'test'], loc='best')\n",
    "\n",
    "plt.subplot(212)\n",
    "plt.plot(history.history['loss'])\n",
    "plt.plot(history.history['val_loss'])\n",
    "plt.title('model loss')\n",
    "plt.ylabel('loss')\n",
    "plt.xlabel('epoch')\n",
    "plt.legend(['train', 'test'], loc='best')\n",
    "plt.tight_layout()\n",
    "plt.show()"
   ]
  },
  {
   "cell_type": "code",
   "execution_count": 2049,
   "metadata": {},
   "outputs": [
    {
     "name": "stdout",
     "output_type": "stream",
     "text": [
      "150/150 [==============================] - 0s 274us/step\n",
      "Test loss: 0.0622727998098\n",
      "Test accuracy: 0.98\n"
     ]
    }
   ],
   "source": [
    "score = model.evaluate(X, Y, batch_size = batch_size, verbose = 1)\n",
    "print('Test loss:', score[0])\n",
    "print('Test accuracy:', score[1])"
   ]
  },
  {
   "cell_type": "code",
   "execution_count": null,
   "metadata": {
    "collapsed": true
   },
   "outputs": [],
   "source": []
  },
  {
   "cell_type": "code",
   "execution_count": null,
   "metadata": {
    "collapsed": true
   },
   "outputs": [],
   "source": [
    "epochs           = 2000\n",
    "rate             = 0.4\n",
    "validation_split = 0.1"
   ]
  },
  {
   "cell_type": "code",
   "execution_count": 2064,
   "metadata": {
    "collapsed": true
   },
   "outputs": [],
   "source": [
    "data = array(read_table(\"https://www.cs.mtsu.edu/~jphillips/courses/CSCI4850-5850/public/WDBC.txt\", delim_whitespace = True, header = None))"
   ]
  },
  {
   "cell_type": "code",
   "execution_count": 2076,
   "metadata": {
    "collapsed": true
   },
   "outputs": [],
   "source": [
    "X          = data[:, 0:30]\n",
    "input_size = X.shape[1]"
   ]
  },
  {
   "cell_type": "code",
   "execution_count": 2078,
   "metadata": {
    "collapsed": true
   },
   "outputs": [],
   "source": [
    "labels = data[:,30]"
   ]
  },
  {
   "cell_type": "code",
   "execution_count": 2081,
   "metadata": {
    "collapsed": true
   },
   "outputs": [],
   "source": [
    "Y           = utils.to_categorical(labels, len(unique(labels)))\n",
    "output_size = Y.shape[1]"
   ]
  },
  {
   "cell_type": "code",
   "execution_count": 2082,
   "metadata": {
    "collapsed": true
   },
   "outputs": [],
   "source": [
    "model = Sequential()\n",
    "model.add(layers.Dense(output_size, activation = 'sigmoid', input_shape=[input_size]))\n",
    "model.compile(loss = losses.mse, optimizer = optimizers.SGD(lr = rate), metrics = ['accuracy'])"
   ]
  },
  {
   "cell_type": "code",
   "execution_count": 2083,
   "metadata": {
    "collapsed": true
   },
   "outputs": [],
   "source": [
    "#print_weights = callbacks.LambdaCallback(on_epoch_end=lambda batch, logs: print(model.layers[0].get_weights()))\n",
    "history = model.fit(X, Y, batch_size = batch_size, epochs = epochs, verbose = 0, validation_split = validation_split)#, callbacks = [print_weights])"
   ]
  },
  {
   "cell_type": "code",
   "execution_count": 2084,
   "metadata": {},
   "outputs": [
    {
     "data": {
      "image/png": "[encoded data removed]",
      "text/plain": [
       "<matplotlib.figure.Figure at 0x7fdb1ce14b00>"
      ]
     },
     "metadata": {},
     "output_type": "display_data"
    }
   ],
   "source": [
    "plt.figure(1)\n",
    "plt.subplot(211)\n",
    "plt.plot(history.history['acc'])\n",
    "plt.plot(history.history['val_acc'])\n",
    "plt.title('model accuracy')\n",
    "plt.ylabel('accuracy')\n",
    "plt.xlabel('epoch')\n",
    "plt.legend(['train', 'test'], loc='best')\n",
    "\n",
    "plt.subplot(212)\n",
    "plt.plot(history.history['loss'])\n",
    "plt.plot(history.history['val_loss'])\n",
    "plt.title('model loss')\n",
    "plt.ylabel('loss')\n",
    "plt.xlabel('epoch')\n",
    "plt.legend(['train', 'test'], loc='best')\n",
    "plt.tight_layout()\n",
    "plt.show()"
   ]
  },
  {
   "cell_type": "code",
   "execution_count": 2085,
   "metadata": {},
   "outputs": [
    {
     "name": "stdout",
     "output_type": "stream",
     "text": [
      "568/568 [==============================] - 0s 179us/step\n",
      "Test loss: 0.019120148911\n",
      "Test accuracy: 0.980633802817\n"
     ]
    }
   ],
   "source": [
    "score = model.evaluate(X, Y, batch_size = batch_size, verbose = 1)\n",
    "print('Test loss:', score[0])\n",
    "print('Test accuracy:', score[1])"
   ]
  },
  {
   "cell_type": "code",
   "execution_count": 2086,
   "metadata": {},
   "outputs": [
    {
     "data": {
      "text/plain": [
       "[0.95999999999999996,\n",
       " 0.95999999999999996,\n",
       " 0.96666666666666667,\n",
       " 0.96666666666666667,\n",
       " 0.93999999999999995,\n",
       " 0.82666666746139528,\n",
       " 0.81999999999999995,\n",
       " 0.81999999999999995,\n",
       " 0.82000000079472857,\n",
       " 0.82000000079472857,\n",
       " 0.66666666666666663,\n",
       " 0.66666666666666663,\n",
       " 0.66666666666666663,\n",
       " 0.66666666666666663,\n",
       " 0.66666666666666663,\n",
       " 0.66666666666666663,\n",
       " 0.66666666666666663,\n",
       " 0.66666666666666663,\n",
       " 0.66666666666666663,\n",
       " 0.66666666666666663,\n",
       " 0.66666666666666663,\n",
       " 0.66666666666666663,\n",
       " 0.66666666666666663,\n",
       " 0.66666666666666663,\n",
       " 0.66666666666666663,\n",
       " 0.96666666666666667,\n",
       " 0.95999999999999996,\n",
       " 0.96666666666666667,\n",
       " 0.94666666666666666,\n",
       " 0.95999999999999996,\n",
       " 0.66666666666666663,\n",
       " 0.82666666746139528,\n",
       " 0.80000000000000004,\n",
       " 0.66666666666666663,\n",
       " 0.83333333412806188,\n",
       " 0.66666666666666663,\n",
       " 0.66666666666666663,\n",
       " 0.66666666666666663,\n",
       " 0.66666666666666663,\n",
       " 0.66666666666666663,\n",
       " 0.66666666666666663,\n",
       " 0.33333333333333331,\n",
       " 0.66666666666666663,\n",
       " 0.66666666666666663,\n",
       " 0.66666666666666663,\n",
       " 0.66666666666666663,\n",
       " 0.66666666666666663,\n",
       " 0.66666666666666663,\n",
       " 0.66666666666666663,\n",
       " 0.66666666666666663,\n",
       " 0.66666666666666663,\n",
       " 0.96666666666666667,\n",
       " 0.96666666666666667,\n",
       " 0.95333333333333337,\n",
       " 0.95999999999999996,\n",
       " 0.66666666666666663,\n",
       " 0.66666666666666663,\n",
       " 0.91333333333333333,\n",
       " 0.82666666746139528,\n",
       " 0.66666666666666663,\n",
       " 0.66666666666666663,\n",
       " 0.66666666666666663,\n",
       " 0.66666666666666663,\n",
       " 0.66666666666666663,\n",
       " 0.66666666666666663,\n",
       " 0.66666666666666663,\n",
       " 0.66666666666666663,\n",
       " 0.66666666666666663,\n",
       " 0.66666666666666663,\n",
       " 0.66666666666666663,\n",
       " 0.66666666666666663,\n",
       " 0.66666666666666663,\n",
       " 0.66666666666666663,\n",
       " 0.66666666666666663,\n",
       " 0.66666666666666663,\n",
       " 0.95999999999999996,\n",
       " 0.96666666666666667,\n",
       " 0.96666666666666667,\n",
       " 0.96666666666666667,\n",
       " 0.97333333333333338,\n",
       " 0.81333333333333335,\n",
       " 0.66666666666666663,\n",
       " 0.84666666587193806,\n",
       " 0.83333333412806188,\n",
       " 0.83333333412806188,\n",
       " 0.66666666666666663,\n",
       " 0.66666666666666663,\n",
       " 0.66666666666666663,\n",
       " 0.66666666666666663,\n",
       " 0.66666666666666663,\n",
       " 0.66666666666666663,\n",
       " 0.66666666666666663,\n",
       " 0.66666666666666663,\n",
       " 0.66666666666666663,\n",
       " 0.66666666666666663,\n",
       " 0.66666666666666663,\n",
       " 0.66666666666666663,\n",
       " 0.66666666666666663,\n",
       " 0.66666666666666663,\n",
       " 0.66666666666666663,\n",
       " 0.96666666666666667,\n",
       " 0.66666666666666663,\n",
       " 0.95999999999999996,\n",
       " 0.95333333333333337,\n",
       " 0.96666666666666667,\n",
       " 0.66666666666666663,\n",
       " 0.85999999920527137,\n",
       " 0.80000000000000004,\n",
       " 0.80666666666666664,\n",
       " 0.66666666666666663,\n",
       " 0.66666666666666663,\n",
       " 0.66666666666666663,\n",
       " 0.66666666666666663,\n",
       " 0.66666666666666663,\n",
       " 0.66666666666666663,\n",
       " 0.66666666666666663,\n",
       " 0.66666666666666663,\n",
       " 0.66666666666666663,\n",
       " 0.66666666666666663,\n",
       " 0.66666666666666663,\n",
       " 0.66666666666666663,\n",
       " 0.66666666666666663,\n",
       " 0.66666666666666663,\n",
       " 0.66666666666666663,\n",
       " 0.66666666666666663,\n",
       " 0.95999999999999996,\n",
       " 0.92666666666666664,\n",
       " 0.96666666666666667,\n",
       " 0.96666666666666667,\n",
       " 0.96666666666666667,\n",
       " 0.92666666666666664,\n",
       " 0.83333333253860475,\n",
       " 0.66666666666666663,\n",
       " 0.83333333253860475,\n",
       " 0.82666666746139528,\n",
       " 0.66666666666666663,\n",
       " 0.66666666666666663,\n",
       " 0.66666666666666663,\n",
       " 0.66666666666666663,\n",
       " 0.66666666666666663,\n",
       " 0.66666666666666663,\n",
       " 0.66666666666666663,\n",
       " 0.66666666666666663,\n",
       " 0.66666666666666663,\n",
       " 0.66666666666666663,\n",
       " 0.66666666666666663,\n",
       " 0.66666666666666663,\n",
       " 0.66666666666666663,\n",
       " 0.66666666666666663,\n",
       " 0.66666666666666663,\n",
       " 0.96666666666666667,\n",
       " 0.85999999999999999,\n",
       " 0.95999999999999996,\n",
       " 0.77333333333333332,\n",
       " 0.96666666666666667,\n",
       " 0.85999999920527137,\n",
       " 0.92666666666666664,\n",
       " 0.85999999920527137,\n",
       " 0.87333333253860479,\n",
       " 0.88666666666666671,\n",
       " 0.66666666666666663,\n",
       " 0.66666666666666663,\n",
       " 0.66666666666666663,\n",
       " 0.66666666666666663,\n",
       " 0.66666666666666663,\n",
       " 0.66666666666666663,\n",
       " 0.66666666666666663,\n",
       " 0.66666666666666663,\n",
       " 0.66666666666666663,\n",
       " 0.66666666666666663,\n",
       " 0.66666666666666663,\n",
       " 0.66666666666666663,\n",
       " 0.66666666666666663,\n",
       " 0.66666666666666663,\n",
       " 0.66666666666666663,\n",
       " 0.96666666666666667,\n",
       " 0.95333333333333337,\n",
       " 0.95999999999999996,\n",
       " 0.89999999920527141,\n",
       " 0.77333333373069768,\n",
       " 0.85999999920527137,\n",
       " 0.66666666666666663,\n",
       " 0.66666666666666663,\n",
       " 0.85999999920527137,\n",
       " 0.81333333333333335,\n",
       " 0.66666666666666663,\n",
       " 0.66666666666666663,\n",
       " 0.66666666666666663,\n",
       " 0.66666666666666663,\n",
       " 0.66666666666666663,\n",
       " 0.66666666666666663,\n",
       " 0.66666666666666663,\n",
       " 0.66666666666666663,\n",
       " 0.66666666666666663,\n",
       " 0.66666666666666663,\n",
       " 0.66666666666666663,\n",
       " 0.66666666666666663,\n",
       " 0.66666666666666663,\n",
       " 0.66666666666666663,\n",
       " 0.66666666666666663,\n",
       " 0.92666666666666664,\n",
       " 0.96666666666666667,\n",
       " 0.92666666666666664,\n",
       " 0.96666666666666667,\n",
       " 0.94666666666666666,\n",
       " 0.85999999920527137,\n",
       " 0.66666666666666663,\n",
       " 0.88,\n",
       " 0.66666666666666663,\n",
       " 0.90000000000000002,\n",
       " 0.66666666666666663,\n",
       " 0.66666666666666663,\n",
       " 0.66666666666666663,\n",
       " 0.66666666666666663,\n",
       " 0.66666666666666663,\n",
       " 0.66666666666666663,\n",
       " 0.66666666666666663,\n",
       " 0.66666666666666663,\n",
       " 0.66666666666666663,\n",
       " 0.66666666666666663,\n",
       " 0.66666666666666663,\n",
       " 0.66666666666666663,\n",
       " 0.66666666666666663,\n",
       " 0.66666666666666663,\n",
       " 0.66666666666666663]"
      ]
     },
     "execution_count": 2086,
     "metadata": {},
     "output_type": "execute_result"
    }
   ],
   "source": [
    "ave"
   ]
  },
  {
   "cell_type": "code",
   "execution_count": null,
   "metadata": {
    "collapsed": true
   },
   "outputs": [],
   "source": []
  }
 ],
 "metadata": {
  "kernelspec": {
   "display_name": "Python 3",
   "language": "python",
   "name": "python3"
  },
  "language_info": {
   "codemirror_mode": {
    "name": "ipython",
    "version": 3
   },
   "file_extension": ".py",
   "mimetype": "text/x-python",
   "name": "python",
   "nbconvert_exporter": "python",
   "pygments_lexer": "ipython3",
   "version": "3.6.3"
  }
 },
 "nbformat": 4,
 "nbformat_minor": 2
}
