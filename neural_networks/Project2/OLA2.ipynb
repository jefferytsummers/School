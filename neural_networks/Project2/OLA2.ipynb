{
 "cells": [
  {
   "cell_type": "code",
   "execution_count": 518,
   "metadata": {},
   "outputs": [],
   "source": [
    "# NN-Tools\n",
    "from numpy                 import array, linspace, meshgrid, vstack\n",
    "from keras.models          import Sequential\n",
    "from keras.layers          import Dense\n",
    "from keras.initializers    import Constant, glorot_uniform, RandomUniform\n",
    "from keras.losses          import categorical_crossentropy\n",
    "from keras.optimizers      import Adam\n",
    "from keras.utils           import to_categorical\n",
    "from keras.datasets        import mnist\n",
    "from keras.utils.vis_utils import model_to_dot\n",
    "# Visualization\n",
    "from IPython.display       import SVG\n",
    "from IPython.display       import display\n",
    "\n",
    "# Printing\n",
    "from sympy                 import init_printing, Matrix\n",
    "init_printing(use_latex=True)\n",
    "# Plotting\n",
    "import matplotlib.pyplot as plt\n",
    "%matplotlib inline"
   ]
  },
  {
   "cell_type": "markdown",
   "metadata": {},
   "source": [
    "# $\\forall$ Problems"
   ]
  },
  {
   "cell_type": "code",
   "execution_count": 519,
   "metadata": {},
   "outputs": [],
   "source": [
    "weight_seed = 10"
   ]
  },
  {
   "cell_type": "markdown",
   "metadata": {},
   "source": [
    "# Preparation for problems 1 and 3"
   ]
  },
  {
   "cell_type": "code",
   "execution_count": 369,
   "metadata": {},
   "outputs": [
    {
     "data": {
      "image/png": "[encoded data removed]",
      "text/latex": [
       "$$\\left[\\begin{matrix}-1 & -1\\\\-1 & 1\\\\1 & -1\\\\1 & 1\\end{matrix}\\right]$$"
      ],
      "text/plain": [
       "⎡-1  -1⎤\n",
       "⎢      ⎥\n",
       "⎢-1  1 ⎥\n",
       "⎢      ⎥\n",
       "⎢1   -1⎥\n",
       "⎢      ⎥\n",
       "⎣1   1 ⎦"
      ]
     },
     "metadata": {},
     "output_type": "display_data"
    },
    {
     "data": {
      "image/png": "[encoded data removed]",
      "text/latex": [
       "$$\\left[\\begin{matrix}0\\\\1\\\\1\\\\0\\end{matrix}\\right]$$"
      ],
      "text/plain": [
       "⎡0⎤\n",
       "⎢ ⎥\n",
       "⎢1⎥\n",
       "⎢ ⎥\n",
       "⎢1⎥\n",
       "⎢ ⎥\n",
       "⎣0⎦"
      ]
     },
     "metadata": {},
     "output_type": "display_data"
    }
   ],
   "source": [
    "# XOR data set\n",
    "X = array([[-1,-1],[-1,1],[1,-1],[1,1]])\n",
    "display(Matrix(X))\n",
    "Y = array([0,1,1,0])\n",
    "display(Matrix(Y))"
   ]
  },
  {
   "cell_type": "code",
   "execution_count": 330,
   "metadata": {},
   "outputs": [],
   "source": [
    "# Sample plot of classification space\n",
    "xpoints = linspace(-2,2,20)\n",
    "ypoints = linspace(-2,2,20)\n",
    "xgrid, ygrid = meshgrid(xpoints,ypoints)\n",
    "positions = vstack([xgrid.ravel(),ygrid.ravel()]).T"
   ]
  },
  {
   "cell_type": "markdown",
   "metadata": {},
   "source": [
    "# Problem 1"
   ]
  },
  {
   "cell_type": "code",
   "execution_count": 331,
   "metadata": {},
   "outputs": [],
   "source": [
    "layers            = 5\n",
    "neurons_per_layer = 25"
   ]
  },
  {
   "cell_type": "code",
   "execution_count": 332,
   "metadata": {},
   "outputs": [],
   "source": [
    "# # Multi-layer net with ReLU hidden layer\n",
    "model = Sequential()\n",
    "for _ in range(layers):\n",
    "    model.add(Dense(units              = neurons_per_layer,\n",
    "                    input_dim          = 2,\n",
    "                    activation         = 'relu',\n",
    "                    kernel_initializer = glorot_uniform(seed = weight_seed),\n",
    "                    bias_initializer   = Constant(0.1)))\n",
    "    \n",
    "model.add(Dense(units      = 1,\n",
    "                activation = 'sigmoid'))\n",
    "\n",
    "model.compile(loss      = 'binary_crossentropy',\n",
    "              optimizer = Adam(),\n",
    "              metrics   = ['accuracy'])"
   ]
  },
  {
   "cell_type": "code",
   "execution_count": 334,
   "metadata": {},
   "outputs": [
    {
     "data": {
      "image/png": "[encoded data removed]",
      "text/plain": [
       "<matplotlib.figure.Figure at 0x7f8f6438fb38>"
      ]
     },
     "metadata": {},
     "output_type": "display_data"
    }
   ],
   "source": [
    "# Let's color those points by the classification labels...\n",
    "predictions = model.predict_classes(positions)[:,0]\n",
    "zeros       = positions[predictions==0,:]\n",
    "ones        = positions[predictions==1,:]\n",
    "\n",
    "# Color predictions by class\n",
    "plt.plot(zeros[:,0],zeros[:,1],'ro')\n",
    "plt.plot(ones[:,0],ones[:,1],'bo')\n",
    "\n",
    "# Color the zero-expected outputs red\n",
    "plt.plot(X[[0,3],0],X[[0,3],1],'ro',markersize=10)\n",
    "\n",
    "# Color the one-expected outputs blue\n",
    "plt.plot(X[[1,2],0],X[[1,2],1],'bo',markersize=10)\n",
    "plt.show()"
   ]
  },
  {
   "cell_type": "code",
   "execution_count": 335,
   "metadata": {},
   "outputs": [],
   "source": [
    "# Train it!\n",
    "history = model.fit(X,\n",
    "                    Y,\n",
    "                    batch_size = 1,\n",
    "                    epochs     = 1000,\n",
    "                    verbose    = 0)"
   ]
  },
  {
   "cell_type": "code",
   "execution_count": 336,
   "metadata": {},
   "outputs": [
    {
     "data": {
      "image/png": "[encoded data removed]",
      "text/plain": [
       "<matplotlib.figure.Figure at 0x7f8f643aa358>"
      ]
     },
     "metadata": {},
     "output_type": "display_data"
    }
   ],
   "source": [
    "# summarize history for loss\n",
    "plt.plot(history.history['loss'])\n",
    "plt.title('model loss')\n",
    "plt.ylabel('loss')\n",
    "plt.xlabel('epoch')\n",
    "plt.legend(['train'], loc='upper left')\n",
    "plt.show()"
   ]
  },
  {
   "cell_type": "code",
   "execution_count": 337,
   "metadata": {},
   "outputs": [
    {
     "data": {
      "image/png": "[encoded data removed]",
      "text/plain": [
       "<matplotlib.figure.Figure at 0x7f8f38133240>"
      ]
     },
     "metadata": {},
     "output_type": "display_data"
    }
   ],
   "source": [
    "# Let's color those points by the classification labels...\n",
    "predictions = model.predict_classes(positions)[:,0]\n",
    "zeros       = positions[predictions==0,:]\n",
    "ones        = positions[predictions==1,:]\n",
    "\n",
    "# Color predictions by class\n",
    "plt.plot(zeros[:,0],zeros[:,1],'ro')\n",
    "plt.plot(ones[:,0],ones[:,1],'bo')\n",
    "\n",
    "# Color the zero-expected outputs red\n",
    "plt.plot(X[[0,3],0],X[[0,3],1],'ro',markersize=10)\n",
    "\n",
    "# Color the one-expected outputs blue\n",
    "plt.plot(X[[1,2],0],X[[1,2],1],'bo',markersize=10)\n",
    "plt.show()"
   ]
  },
  {
   "cell_type": "code",
   "execution_count": 338,
   "metadata": {},
   "outputs": [
    {
     "name": "stdout",
     "output_type": "stream",
     "text": [
      "4/4 [==============================] - 1s 255ms/step\n",
      "Test loss: 3.4078320823e-06\n",
      "Test accuracy: 1.0\n"
     ]
    }
   ],
   "source": [
    "score = model.evaluate(X, Y)\n",
    "print('Test loss:', score[0])\n",
    "print('Test accuracy:', score[1])"
   ]
  },
  {
   "cell_type": "markdown",
   "metadata": {},
   "source": [
    "# Problem 2"
   ]
  },
  {
   "cell_type": "markdown",
   "metadata": {},
   "source": [
    "In Problem 1 I decided to implement a sequential neural network with five hidden layers and 25 units per layer. I made these choices because I felt very confident that I could achieve $100\\%$ accuracy with far less layers/units per layer. As expected, the network was able to achieve $100\\%$ accuracy on its first try. Though not very relevant in this problem due to its simplicity, I did use a seeded (for reproducibility) uniform Glorot initialization for the weights and a constant $0.1$ initialization for the biases. For the output layer, I used a sigmoid activation function since that is ideal for a binary classification problem. Also due to the binary nature of this problem, I used binary cross-entropy (BCE) as the measure of error and optimized it (using Adam) according to its accuracy."
   ]
  },
  {
   "cell_type": "markdown",
   "metadata": {},
   "source": [
    "# Problem 3"
   ]
  },
  {
   "cell_type": "code",
   "execution_count": 520,
   "metadata": {},
   "outputs": [],
   "source": [
    "neurons_per_layer = 2"
   ]
  },
  {
   "cell_type": "code",
   "execution_count": 521,
   "metadata": {},
   "outputs": [],
   "source": [
    "# # Multi-layer net with ReLU hidden layer\n",
    "model = Sequential()\n",
    "\n",
    "model.add(Dense(units              = neurons_per_layer,\n",
    "                input_dim          = 2,\n",
    "                activation         = 'relu',\n",
    "                kernel_initializer = glorot_uniform(seed = weight_seed),\n",
    "                bias_initializer   = Constant(0.1)))\n",
    "\n",
    "model.add(Dense(units      = 1,\n",
    "                activation = 'sigmoid'))\n",
    "\n",
    "model.compile(loss      = 'binary_crossentropy',\n",
    "              optimizer = Adam(),\n",
    "              metrics   = ['accuracy'])\n",
    "#print(model.summary())"
   ]
  },
  {
   "cell_type": "code",
   "execution_count": 522,
   "metadata": {},
   "outputs": [
    {
     "data": {
      "image/png": "[encoded data removed]",
      "text/plain": [
       "<matplotlib.figure.Figure at 0x7f8f76e14198>"
      ]
     },
     "metadata": {},
     "output_type": "display_data"
    }
   ],
   "source": [
    "# Let's color those points by the classification labels...\n",
    "predictions = model.predict_classes(positions)[:,0]\n",
    "zeros       = positions[predictions==0,:]\n",
    "ones        = positions[predictions==1,:]\n",
    "\n",
    "# Color predictions by class\n",
    "plt.plot(zeros[:,0],zeros[:,1],'ro')\n",
    "plt.plot(ones[:,0],ones[:,1],'bo')\n",
    "\n",
    "# Color the zero-expected outputs red\n",
    "plt.plot(X[[0,3],0],X[[0,3],1],'ro',markersize=10)\n",
    "\n",
    "# Color the one-expected outputs blue\n",
    "plt.plot(X[[1,2],0],X[[1,2],1],'bo',markersize=10)\n",
    "plt.show()"
   ]
  },
  {
   "cell_type": "code",
   "execution_count": 523,
   "metadata": {},
   "outputs": [],
   "source": [
    "# Train it!\n",
    "history = model.fit(X,\n",
    "                    Y,\n",
    "                    batch_size = 1,\n",
    "                    epochs     = 3000,\n",
    "                    verbose    = 0)"
   ]
  },
  {
   "cell_type": "code",
   "execution_count": 524,
   "metadata": {},
   "outputs": [
    {
     "data": {
      "image/png": "[encoded data removed]",
      "text/plain": [
       "<matplotlib.figure.Figure at 0x7f8f76bc3d30>"
      ]
     },
     "metadata": {},
     "output_type": "display_data"
    }
   ],
   "source": [
    "# summarize history for loss\n",
    "plt.plot(history.history['loss'])\n",
    "plt.title('model loss')\n",
    "plt.ylabel('loss')\n",
    "plt.xlabel('epoch')\n",
    "plt.legend(['train'], loc='upper left')\n",
    "plt.show()"
   ]
  },
  {
   "cell_type": "code",
   "execution_count": 525,
   "metadata": {},
   "outputs": [
    {
     "data": {
      "image/png": "[encoded data removed]",
      "text/plain": [
       "<matplotlib.figure.Figure at 0x7f8f76ad1710>"
      ]
     },
     "metadata": {},
     "output_type": "display_data"
    }
   ],
   "source": [
    "# Let's color those points by the classification labels...\n",
    "predictions = model.predict_classes(positions)[:, 0]\n",
    "zeros       = positions[predictions == 0, :]\n",
    "ones        = positions[predictions == 1, :]\n",
    "\n",
    "# Color predictions by class\n",
    "plt.plot(zeros[:,0],zeros[:,1],'ro')\n",
    "plt.plot(ones[:,0],ones[:,1],'bo')\n",
    "\n",
    "# Color the zero-expected outputs red\n",
    "plt.plot(X[[0,3],0],X[[0,3],1],'ro',markersize=10)\n",
    "\n",
    "# Color the one-expected outputs blue\n",
    "plt.plot(X[[1,2],0],X[[1,2],1],'bo',markersize=10)\n",
    "plt.show()"
   ]
  },
  {
   "cell_type": "code",
   "execution_count": 526,
   "metadata": {},
   "outputs": [
    {
     "name": "stdout",
     "output_type": "stream",
     "text": [
      "4/4 [==============================] - 2s 379ms/step\n",
      "Test loss: 0.0257592815906\n",
      "Test accuracy: 1.0\n"
     ]
    }
   ],
   "source": [
    "score = model.evaluate(X, Y)\n",
    "print('Test loss:', score[0])\n",
    "print('Test accuracy:', score[1])"
   ]
  },
  {
   "cell_type": "markdown",
   "metadata": {},
   "source": [
    "# Problem 4"
   ]
  },
  {
   "cell_type": "markdown",
   "metadata": {},
   "source": [
    "The choice of $\\textit{ReLU}$ for the hidden units would normally increase the size of a network, since it uses deeper networks to solve problems. In the above case, though, I hit the theoretical minimum number of layers/nodes for this problem by using a very large number of epochs."
   ]
  },
  {
   "cell_type": "markdown",
   "metadata": {},
   "source": [
    "# Preparation For Problems 5 and 6"
   ]
  },
  {
   "cell_type": "code",
   "execution_count": 346,
   "metadata": {},
   "outputs": [
    {
     "name": "stdout",
     "output_type": "stream",
     "text": [
      "x_train shape: (60000, 784)\n",
      "y_train shape: (60000, 10)\n",
      "60000 train samples\n",
      "10000 test samples\n"
     ]
    }
   ],
   "source": [
    "\n",
    "# Digits are zero through nine, so 10 classes\n",
    "num_classes = 10\n",
    "# input image dimension\n",
    "img_dim     = 784\n",
    "# the data, shuffled and split between train and test sets\n",
    "(x_train, y_train), (x_test, y_test) = mnist.load_data()\n",
    "\n",
    "x_train = x_train.reshape(x_train.shape[0], img_dim).astype('float16')\n",
    "x_test  = x_test.reshape(x_test.shape[0], img_dim).astype('float16')\n",
    "# Data normalization (0-255 is encoded as 0-1 instead)\n",
    "x_train /= 255.0\n",
    "x_test  /= 255.0\n",
    "\n",
    "# Convert class vectors to binary class matrices\n",
    "y_train = to_categorical(y_train, num_classes)\n",
    "y_test  = to_categorical(y_test, num_classes)\n",
    "\n",
    "# Shape information\n",
    "print('x_train shape:', x_train.shape)\n",
    "print('y_train shape:', y_train.shape)\n",
    "print(x_train.shape[0], 'train samples')\n",
    "print(x_test.shape[0], 'test samples')"
   ]
  },
  {
   "cell_type": "markdown",
   "metadata": {},
   "source": [
    "# Problem 5"
   ]
  },
  {
   "cell_type": "code",
   "execution_count": 363,
   "metadata": {},
   "outputs": [
    {
     "name": "stdout",
     "output_type": "stream",
     "text": [
      "_________________________________________________________________\n",
      "Layer (type)                 Output Shape              Param #   \n",
      "=================================================================\n",
      "dense_215 (Dense)            (None, 200)               157000    \n",
      "_________________________________________________________________\n",
      "dense_216 (Dense)            (None, 200)               40200     \n",
      "_________________________________________________________________\n",
      "dense_217 (Dense)            (None, 10)                2010      \n",
      "=================================================================\n",
      "Total params: 199,210\n",
      "Trainable params: 199,210\n",
      "Non-trainable params: 0\n",
      "_________________________________________________________________\n"
     ]
    }
   ],
   "source": [
    "neurons_per_layer = 200\n",
    "model             = Sequential()\n",
    "model.add(Dense(units              = neurons_per_layer,\n",
    "                activation         = 'tanh',\n",
    "                input_shape        = [x_train.shape[1]],\n",
    "                kernel_initializer = glorot_uniform(seed = weight_seed),\n",
    "                bias_initializer   = Constant(0.1)))\n",
    "\n",
    "model.add(Dense(units              = neurons_per_layer,\n",
    "                activation         = 'tanh',\n",
    "                kernel_initializer = glorot_uniform(seed = weight_seed),\n",
    "                bias_initializer   = Constant(0.1)))\n",
    "\n",
    "model.add(Dense(units              = num_classes,\n",
    "                kernel_initializer = glorot_uniform(seed = weight_seed),\n",
    "                activation         = 'softmax'))\n",
    "model.compile(loss                 = categorical_crossentropy,\n",
    "              optimizer            = Adam(),\n",
    "              metrics              = ['accuracy'])\n",
    "model.summary()"
   ]
  },
  {
   "cell_type": "code",
   "execution_count": 364,
   "metadata": {},
   "outputs": [
    {
     "name": "stdout",
     "output_type": "stream",
     "text": [
      "Train on 48000 samples, validate on 12000 samples\n",
      "Epoch 1/32\n",
      "48000/48000 [==============================] - 7s 145us/step - loss: 0.4510 - acc: 0.8712 - val_loss: 0.2427 - val_acc: 0.9319\n",
      "Epoch 2/32\n",
      "48000/48000 [==============================] - 4s 82us/step - loss: 0.2194 - acc: 0.9363 - val_loss: 0.1880 - val_acc: 0.9470\n",
      "Epoch 3/32\n",
      "48000/48000 [==============================] - 4s 79us/step - loss: 0.1642 - acc: 0.9506 - val_loss: 0.1517 - val_acc: 0.9577\n",
      "Epoch 4/32\n",
      "48000/48000 [==============================] - 4s 80us/step - loss: 0.1297 - acc: 0.9624 - val_loss: 0.1287 - val_acc: 0.9642\n",
      "Epoch 5/32\n",
      "48000/48000 [==============================] - 4s 75us/step - loss: 0.1034 - acc: 0.9696 - val_loss: 0.1235 - val_acc: 0.9613\n",
      "Epoch 6/32\n",
      "48000/48000 [==============================] - 4s 81us/step - loss: 0.0848 - acc: 0.9750 - val_loss: 0.1094 - val_acc: 0.9666\n",
      "Epoch 7/32\n",
      "48000/48000 [==============================] - 4s 83us/step - loss: 0.0714 - acc: 0.9793 - val_loss: 0.0974 - val_acc: 0.9723\n",
      "Epoch 8/32\n",
      "48000/48000 [==============================] - 4s 79us/step - loss: 0.0591 - acc: 0.9831 - val_loss: 0.0949 - val_acc: 0.9726\n",
      "Epoch 9/32\n",
      "48000/48000 [==============================] - 4s 78us/step - loss: 0.0490 - acc: 0.9861 - val_loss: 0.0920 - val_acc: 0.9726\n",
      "Epoch 10/32\n",
      "48000/48000 [==============================] - 4s 77us/step - loss: 0.0413 - acc: 0.9883 - val_loss: 0.0898 - val_acc: 0.9734\n",
      "Epoch 11/32\n",
      "48000/48000 [==============================] - 4s 82us/step - loss: 0.0326 - acc: 0.9918 - val_loss: 0.0845 - val_acc: 0.9752\n",
      "Epoch 12/32\n",
      "48000/48000 [==============================] - 4s 80us/step - loss: 0.0276 - acc: 0.9934 - val_loss: 0.0821 - val_acc: 0.9763\n",
      "Epoch 13/32\n",
      "48000/48000 [==============================] - 4s 85us/step - loss: 0.0224 - acc: 0.9947 - val_loss: 0.0840 - val_acc: 0.9759\n",
      "Epoch 14/32\n",
      "48000/48000 [==============================] - 4s 85us/step - loss: 0.0197 - acc: 0.9951 - val_loss: 0.0860 - val_acc: 0.9744\n",
      "Epoch 15/32\n",
      "48000/48000 [==============================] - 4s 77us/step - loss: 0.0160 - acc: 0.9965 - val_loss: 0.0897 - val_acc: 0.9734\n",
      "Epoch 16/32\n",
      "48000/48000 [==============================] - 4s 81us/step - loss: 0.0130 - acc: 0.9976 - val_loss: 0.0822 - val_acc: 0.9764\n",
      "Epoch 17/32\n",
      "48000/48000 [==============================] - 4s 79us/step - loss: 0.0096 - acc: 0.9987 - val_loss: 0.0840 - val_acc: 0.9774\n",
      "Epoch 18/32\n",
      "48000/48000 [==============================] - 3s 71us/step - loss: 0.0076 - acc: 0.9992 - val_loss: 0.0854 - val_acc: 0.9774\n",
      "Epoch 19/32\n",
      "48000/48000 [==============================] - 3s 73us/step - loss: 0.0069 - acc: 0.9991 - val_loss: 0.0858 - val_acc: 0.9768\n",
      "Epoch 20/32\n",
      "48000/48000 [==============================] - 4s 78us/step - loss: 0.0055 - acc: 0.9995 - val_loss: 0.0867 - val_acc: 0.9775\n",
      "Epoch 21/32\n",
      "48000/48000 [==============================] - 4s 81us/step - loss: 0.0045 - acc: 0.9996 - val_loss: 0.0864 - val_acc: 0.9783\n",
      "Epoch 22/32\n",
      "48000/48000 [==============================] - 4s 78us/step - loss: 0.0040 - acc: 0.9998 - val_loss: 0.0890 - val_acc: 0.9783\n",
      "Epoch 23/32\n",
      "48000/48000 [==============================] - 4s 76us/step - loss: 0.0029 - acc: 0.9999 - val_loss: 0.0896 - val_acc: 0.9776\n",
      "Epoch 24/32\n",
      "48000/48000 [==============================] - 4s 81us/step - loss: 0.0034 - acc: 0.9996 - val_loss: 0.0951 - val_acc: 0.9775\n",
      "Epoch 25/32\n",
      "48000/48000 [==============================] - 4s 76us/step - loss: 0.0026 - acc: 0.9999 - val_loss: 0.0900 - val_acc: 0.9782\n",
      "Epoch 26/32\n",
      "48000/48000 [==============================] - 4s 77us/step - loss: 0.0018 - acc: 1.0000 - val_loss: 0.0920 - val_acc: 0.9779\n",
      "Epoch 27/32\n",
      "48000/48000 [==============================] - 4s 84us/step - loss: 0.0014 - acc: 1.0000 - val_loss: 0.0924 - val_acc: 0.9782\n",
      "Epoch 28/32\n",
      "48000/48000 [==============================] - 4s 75us/step - loss: 0.0013 - acc: 1.0000 - val_loss: 0.0933 - val_acc: 0.9781\n",
      "Epoch 29/32\n",
      "48000/48000 [==============================] - 4s 78us/step - loss: 0.0011 - acc: 1.0000 - val_loss: 0.0935 - val_acc: 0.9790\n",
      "Epoch 30/32\n",
      "48000/48000 [==============================] - 4s 74us/step - loss: 9.5159e-04 - acc: 1.0000 - val_loss: 0.0951 - val_acc: 0.9792\n",
      "Epoch 31/32\n",
      "48000/48000 [==============================] - 4s 83us/step - loss: 8.5626e-04 - acc: 1.0000 - val_loss: 0.0959 - val_acc: 0.9786\n",
      "Epoch 32/32\n",
      "48000/48000 [==============================] - 4s 82us/step - loss: 7.3586e-04 - acc: 1.0000 - val_loss: 0.0974 - val_acc: 0.9784\n"
     ]
    }
   ],
   "source": [
    "#Train it!\n",
    "history = model.fit(x_train,\n",
    "                    y_train,\n",
    "                    batch_size       = 400,\n",
    "                    epochs           = 32,\n",
    "                    verbose          = 1,\n",
    "                    validation_split = 0.2)"
   ]
  },
  {
   "cell_type": "code",
   "execution_count": 365,
   "metadata": {},
   "outputs": [
    {
     "data": {
      "image/png": "[encoded data removed]",
      "text/plain": [
       "<matplotlib.figure.Figure at 0x7f8e8414b588>"
      ]
     },
     "metadata": {},
     "output_type": "display_data"
    }
   ],
   "source": [
    "plt.figure()\n",
    "# summarize history for accuracy\n",
    "plt.subplot(211)\n",
    "plt.plot(history.history['acc'])\n",
    "plt.plot(history.history['val_acc'])\n",
    "plt.title('model accuracy')\n",
    "plt.ylabel('accuracy')\n",
    "plt.xlabel('epoch')\n",
    "plt.legend(['train', 'test'], loc='upper left')\n",
    "# summarize history for loss\n",
    "plt.subplot(212)\n",
    "plt.plot(history.history['loss'])\n",
    "plt.plot(history.history['val_loss'])\n",
    "plt.title('model loss')\n",
    "plt.ylabel('loss')\n",
    "plt.xlabel('epoch')\n",
    "plt.legend(['train', 'test'], loc='upper left')\n",
    "plt.tight_layout()\n",
    "plt.show()"
   ]
  },
  {
   "cell_type": "code",
   "execution_count": 366,
   "metadata": {},
   "outputs": [
    {
     "name": "stdout",
     "output_type": "stream",
     "text": [
      "Test loss: 0.0837878971403\n",
      "Test accuracy: 0.9801\n"
     ]
    }
   ],
   "source": [
    "score = model.evaluate(x_test, y_test, verbose=0)\n",
    "print('Test loss:', score[0])\n",
    "print('Test accuracy:', score[1])"
   ]
  },
  {
   "cell_type": "markdown",
   "metadata": {},
   "source": [
    "# Problem 6"
   ]
  },
  {
   "cell_type": "code",
   "execution_count": 321,
   "metadata": {},
   "outputs": [
    {
     "name": "stdout",
     "output_type": "stream",
     "text": [
      "_________________________________________________________________\n",
      "Layer (type)                 Output Shape              Param #   \n",
      "=================================================================\n",
      "dense_194 (Dense)            (None, 300)               235500    \n",
      "_________________________________________________________________\n",
      "dense_195 (Dense)            (None, 10)                3010      \n",
      "=================================================================\n",
      "Total params: 238,510\n",
      "Trainable params: 238,510\n",
      "Non-trainable params: 0\n",
      "_________________________________________________________________\n"
     ]
    }
   ],
   "source": [
    "neurons_per_layer = 300\n",
    "model             = Sequential()\n",
    "model.add(Dense(units              = neurons_per_layer,\n",
    "                activation         = 'relu',\n",
    "                input_shape        = [x_train.shape[1]],\n",
    "                kernel_initializer = glorot_uniform(seed = weight_seed),\n",
    "                bias_initializer   = Constant(0.1)))\n",
    "\n",
    "model.add(Dense(units              = num_classes,\n",
    "                kernel_initializer = glorot_uniform(seed = weight_seed),\n",
    "                activation         = 'softmax'))\n",
    "model.compile(loss                 = categorical_crossentropy,\n",
    "              optimizer            = Adam(),\n",
    "              metrics              = ['accuracy'])\n",
    "model.summary()"
   ]
  },
  {
   "cell_type": "code",
   "execution_count": 322,
   "metadata": {},
   "outputs": [
    {
     "name": "stdout",
     "output_type": "stream",
     "text": [
      "Train on 48000 samples, validate on 12000 samples\n",
      "Epoch 1/30\n",
      "48000/48000 [==============================] - 8s 162us/step - loss: 0.3708 - acc: 0.8985 - val_loss: 0.1935 - val_acc: 0.9459\n",
      "Epoch 2/30\n",
      "48000/48000 [==============================] - 5s 104us/step - loss: 0.1654 - acc: 0.9530 - val_loss: 0.1411 - val_acc: 0.9622\n",
      "Epoch 3/30\n",
      "48000/48000 [==============================] - 5s 111us/step - loss: 0.1170 - acc: 0.9664 - val_loss: 0.1167 - val_acc: 0.9666\n",
      "Epoch 4/30\n",
      "48000/48000 [==============================] - 5s 110us/step - loss: 0.0869 - acc: 0.9754 - val_loss: 0.0979 - val_acc: 0.9721\n",
      "Epoch 5/30\n",
      "48000/48000 [==============================] - 5s 110us/step - loss: 0.0686 - acc: 0.9806 - val_loss: 0.0956 - val_acc: 0.9710\n",
      "Epoch 6/30\n",
      "48000/48000 [==============================] - 5s 112us/step - loss: 0.0534 - acc: 0.9857 - val_loss: 0.0874 - val_acc: 0.9746\n",
      "Epoch 7/30\n",
      "48000/48000 [==============================] - 5s 112us/step - loss: 0.0436 - acc: 0.9885 - val_loss: 0.0823 - val_acc: 0.9750\n",
      "Epoch 8/30\n",
      "48000/48000 [==============================] - 5s 109us/step - loss: 0.0358 - acc: 0.9908 - val_loss: 0.0821 - val_acc: 0.9752\n",
      "Epoch 9/30\n",
      "48000/48000 [==============================] - 5s 106us/step - loss: 0.0293 - acc: 0.9926 - val_loss: 0.0769 - val_acc: 0.9768\n",
      "Epoch 10/30\n",
      "48000/48000 [==============================] - 5s 103us/step - loss: 0.0239 - acc: 0.9942 - val_loss: 0.0816 - val_acc: 0.9762\n",
      "Epoch 11/30\n",
      "48000/48000 [==============================] - 5s 108us/step - loss: 0.0191 - acc: 0.9960 - val_loss: 0.0761 - val_acc: 0.9778\n",
      "Epoch 12/30\n",
      "48000/48000 [==============================] - 6s 117us/step - loss: 0.0157 - acc: 0.9970 - val_loss: 0.0747 - val_acc: 0.9765\n",
      "Epoch 13/30\n",
      "48000/48000 [==============================] - 5s 113us/step - loss: 0.0126 - acc: 0.9977 - val_loss: 0.0746 - val_acc: 0.9773\n",
      "Epoch 14/30\n",
      "48000/48000 [==============================] - 5s 112us/step - loss: 0.0100 - acc: 0.9986 - val_loss: 0.0795 - val_acc: 0.9782\n",
      "Epoch 15/30\n",
      "48000/48000 [==============================] - 5s 108us/step - loss: 0.0089 - acc: 0.9989 - val_loss: 0.0810 - val_acc: 0.9778\n",
      "Epoch 16/30\n",
      "48000/48000 [==============================] - 5s 110us/step - loss: 0.0071 - acc: 0.9992 - val_loss: 0.0789 - val_acc: 0.9778\n",
      "Epoch 17/30\n",
      "48000/48000 [==============================] - 6s 119us/step - loss: 0.0056 - acc: 0.9994 - val_loss: 0.0782 - val_acc: 0.9780\n",
      "Epoch 18/30\n",
      "48000/48000 [==============================] - 5s 111us/step - loss: 0.0042 - acc: 0.9997 - val_loss: 0.0795 - val_acc: 0.9795\n",
      "Epoch 19/30\n",
      "48000/48000 [==============================] - 6s 120us/step - loss: 0.0037 - acc: 0.9998 - val_loss: 0.0788 - val_acc: 0.9787\n",
      "Epoch 20/30\n",
      "48000/48000 [==============================] - 5s 111us/step - loss: 0.0031 - acc: 0.9998 - val_loss: 0.0817 - val_acc: 0.9786\n",
      "Epoch 21/30\n",
      "48000/48000 [==============================] - 5s 111us/step - loss: 0.0026 - acc: 0.9999 - val_loss: 0.0813 - val_acc: 0.9790\n",
      "Epoch 22/30\n",
      "48000/48000 [==============================] - 6s 120us/step - loss: 0.0019 - acc: 1.0000 - val_loss: 0.0799 - val_acc: 0.9798\n",
      "Epoch 23/30\n",
      "48000/48000 [==============================] - 5s 110us/step - loss: 0.0016 - acc: 1.0000 - val_loss: 0.0836 - val_acc: 0.9801\n",
      "Epoch 24/30\n",
      "48000/48000 [==============================] - 5s 110us/step - loss: 0.0013 - acc: 1.0000 - val_loss: 0.0850 - val_acc: 0.9795\n",
      "Epoch 25/30\n",
      "48000/48000 [==============================] - 6s 116us/step - loss: 0.0015 - acc: 0.9999 - val_loss: 0.0887 - val_acc: 0.9781\n",
      "Epoch 26/30\n",
      "48000/48000 [==============================] - 5s 109us/step - loss: 0.0179 - acc: 0.9943 - val_loss: 0.1077 - val_acc: 0.9743\n",
      "Epoch 27/30\n",
      "48000/48000 [==============================] - 5s 112us/step - loss: 0.0057 - acc: 0.9988 - val_loss: 0.0929 - val_acc: 0.9774\n",
      "Epoch 28/30\n",
      "48000/48000 [==============================] - 6s 116us/step - loss: 0.0018 - acc: 0.9999 - val_loss: 0.0861 - val_acc: 0.9790\n",
      "Epoch 29/30\n",
      "48000/48000 [==============================] - 6s 117us/step - loss: 8.0020e-04 - acc: 1.0000 - val_loss: 0.0872 - val_acc: 0.9798\n",
      "Epoch 30/30\n",
      "48000/48000 [==============================] - 5s 103us/step - loss: 6.1893e-04 - acc: 1.0000 - val_loss: 0.0875 - val_acc: 0.9804\n"
     ]
    }
   ],
   "source": [
    "#Train it!\n",
    "history = model.fit(x_train,\n",
    "                    y_train,\n",
    "                    batch_size       = 200,\n",
    "                    epochs           = 30,\n",
    "                    verbose          = 1,\n",
    "                    validation_split = 0.2)"
   ]
  },
  {
   "cell_type": "code",
   "execution_count": 323,
   "metadata": {},
   "outputs": [
    {
     "data": {
      "image/png": "[encoded data removed]",
      "text/plain": [
       "<matplotlib.figure.Figure at 0x7f902a952a58>"
      ]
     },
     "metadata": {},
     "output_type": "display_data"
    }
   ],
   "source": [
    "plt.figure()\n",
    "# summarize history for accuracy\n",
    "plt.subplot(211)\n",
    "plt.plot(history.history['acc'])\n",
    "plt.plot(history.history['val_acc'])\n",
    "plt.title('model accuracy')\n",
    "plt.ylabel('accuracy')\n",
    "plt.xlabel('epoch')\n",
    "plt.legend(['train', 'test'], loc='upper left')\n",
    "# summarize history for loss\n",
    "plt.subplot(212)\n",
    "plt.plot(history.history['loss'])\n",
    "plt.plot(history.history['val_loss'])\n",
    "plt.title('model loss')\n",
    "plt.ylabel('loss')\n",
    "plt.xlabel('epoch')\n",
    "plt.legend(['train', 'test'], loc='upper left')\n",
    "plt.tight_layout()\n",
    "plt.show()"
   ]
  },
  {
   "cell_type": "code",
   "execution_count": 324,
   "metadata": {},
   "outputs": [
    {
     "name": "stdout",
     "output_type": "stream",
     "text": [
      "Test loss: 0.0754311026974\n",
      "Test accuracy: 0.9815\n"
     ]
    }
   ],
   "source": [
    "score = model.evaluate(x_test, y_test, verbose=0)\n",
    "print('Test loss:', score[0])\n",
    "print('Test accuracy:', score[1])"
   ]
  },
  {
   "cell_type": "markdown",
   "metadata": {},
   "source": [
    "# Problem 7"
   ]
  },
  {
   "cell_type": "markdown",
   "metadata": {},
   "source": [
    "As can be seen just looking at the graphs from Problems 5 and 6, there is not a significant difference between them, though there is a slight dip in accuracy around 25 epochs in the $\\textit{ReLU}$ net. They are both very similar with respect to accuracy and loss $-$ though the $\\tanh$ net did require roughly $16\\%$ less parameters to acheive roughly the same accuracy as the $\\textit{ReLU}$ net. The $\\tanh$ net also required slightly more epochs to converge (32 vs 30)."
   ]
  }
 ],
 "metadata": {
  "kernelspec": {
   "display_name": "Python 3",
   "language": "python",
   "name": "python3"
  },
  "language_info": {
   "codemirror_mode": {
    "name": "ipython",
    "version": 3
   },
   "file_extension": ".py",
   "mimetype": "text/x-python",
   "name": "python",
   "nbconvert_exporter": "python",
   "pygments_lexer": "ipython3",
   "version": "3.5.3"
  }
 },
 "nbformat": 4,
 "nbformat_minor": 2
}
