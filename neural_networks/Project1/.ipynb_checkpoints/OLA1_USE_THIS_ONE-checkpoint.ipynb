{
 "cells": [
  {
   "cell_type": "code",
   "execution_count": 2141,
   "metadata": {
    "collapsed": true
   },
   "outputs": [],
   "source": [
    "from pandas import read_table\n",
    "from numpy import array, unique\n",
    "from keras import utils, Sequential, layers, losses, optimizers, callbacks\n",
    "import matplotlib.pyplot as plt\n",
    "%matplotlib inline"
   ]
  },
  {
   "cell_type": "code",
   "execution_count": 2142,
   "metadata": {
    "collapsed": true
   },
   "outputs": [],
   "source": [
    "batch_size       = 16\n",
    "epochs           = 1000\n",
    "validation_split = 0.5\n",
    "rate             = 0.4"
   ]
  },
  {
   "cell_type": "code",
   "execution_count": 2143,
   "metadata": {
    "collapsed": true
   },
   "outputs": [],
   "source": [
    "data = array(read_table(\"https://www.cs.mtsu.edu/~jphillips/courses/CSCI4850-5850/public/iris-data.txt\", delim_whitespace = True, header = None))"
   ]
  },
  {
   "cell_type": "code",
   "execution_count": 2144,
   "metadata": {
    "collapsed": true
   },
   "outputs": [],
   "source": [
    "X          = data[:, 0:4]\n",
    "input_size = X.shape[1]"
   ]
  },
  {
   "cell_type": "code",
   "execution_count": 2145,
   "metadata": {
    "collapsed": true
   },
   "outputs": [],
   "source": [
    "labels = data[:,4]"
   ]
  },
  {
   "cell_type": "code",
   "execution_count": 2146,
   "metadata": {
    "collapsed": true
   },
   "outputs": [],
   "source": [
    "Y           = utils.to_categorical(labels, len(unique(labels)))\n",
    "output_size = Y.shape[1]"
   ]
  },
  {
   "cell_type": "code",
   "execution_count": 2147,
   "metadata": {
    "collapsed": true
   },
   "outputs": [],
   "source": [
    "model = Sequential()\n",
    "model.add(layers.Dense(output_size, activation = 'sigmoid', input_shape=[input_size]))\n",
    "model.compile(loss = losses.mse, optimizer = optimizers.SGD(lr = rate), metrics = ['accuracy'])"
   ]
  },
  {
   "cell_type": "code",
   "execution_count": 2148,
   "metadata": {
    "collapsed": true
   },
   "outputs": [],
   "source": [
    "#print_weights = callbacks.LambdaCallback(on_epoch_end=lambda batch, logs: print(model.layers[0].get_weights()))\n",
    "history = model.fit(X, Y, batch_size = batch_size, epochs = epochs, verbose = 0, validation_split = validation_split)#, callbacks = [print_weights])"
   ]
  },
  {
   "cell_type": "code",
   "execution_count": 2149,
   "metadata": {},
   "outputs": [
    {
     "data": {
      "image/png": "[encoded data removed]",
      "text/plain": [
       "<matplotlib.figure.Figure at 0x7fdb1bee77b8>"
      ]
     },
     "metadata": {},
     "output_type": "display_data"
    }
   ],
   "source": [
    "plt.figure(1)\n",
    "plt.subplot(211)\n",
    "plt.plot(history.history['acc'])\n",
    "plt.plot(history.history['val_acc'])\n",
    "plt.title('model accuracy')\n",
    "plt.ylabel('accuracy')\n",
    "plt.xlabel('epoch')\n",
    "plt.legend(['train', 'test'], loc='best')\n",
    "\n",
    "plt.subplot(212)\n",
    "plt.plot(history.history['loss'])\n",
    "plt.plot(history.history['val_loss'])\n",
    "plt.title('model loss')\n",
    "plt.ylabel('loss')\n",
    "plt.xlabel('epoch')\n",
    "plt.legend(['train', 'test'], loc='best')\n",
    "plt.tight_layout()\n",
    "plt.show()"
   ]
  },
  {
   "cell_type": "code",
   "execution_count": 2150,
   "metadata": {},
   "outputs": [
    {
     "name": "stdout",
     "output_type": "stream",
     "text": [
      "150/150 [==============================] - 0s 187us/step\n",
      "Test loss: 0.0729610853394\n",
      "Test accuracy: 0.973333333333\n"
     ]
    }
   ],
   "source": [
    "score = model.evaluate(X, Y, batch_size = batch_size, verbose = 1)\n",
    "print('Test loss:', score[0])\n",
    "print('Test accuracy:', score[1])"
   ]
  },
  {
   "cell_type": "code",
   "execution_count": null,
   "metadata": {
    "collapsed": true
   },
   "outputs": [],
   "source": []
  },
  {
   "cell_type": "code",
   "execution_count": null,
   "metadata": {
    "collapsed": true
   },
   "outputs": [],
   "source": []
  },
  {
   "cell_type": "code",
   "execution_count": 2151,
   "metadata": {
    "collapsed": true
   },
   "outputs": [],
   "source": [
    "data = array(read_table(\"https://www.cs.mtsu.edu/~jphillips/courses/CSCI4850-5850/public/WDBC.txt\", delim_whitespace = True, header = None))"
   ]
  },
  {
   "cell_type": "code",
   "execution_count": 2152,
   "metadata": {
    "collapsed": true
   },
   "outputs": [],
   "source": [
    "X          = data[:, 0:30]\n",
    "input_size = X.shape[1]"
   ]
  },
  {
   "cell_type": "code",
   "execution_count": 2153,
   "metadata": {
    "collapsed": true
   },
   "outputs": [],
   "source": [
    "labels = data[:,30]"
   ]
  },
  {
   "cell_type": "code",
   "execution_count": 2154,
   "metadata": {
    "collapsed": true
   },
   "outputs": [],
   "source": [
    "Y           = utils.to_categorical(labels, len(unique(labels)))\n",
    "output_size = Y.shape[1]"
   ]
  },
  {
   "cell_type": "code",
   "execution_count": null,
   "metadata": {
    "collapsed": true
   },
   "outputs": [],
   "source": [
    "model = Sequential()\n",
    "model.add(layers.Dense(output_size, activation = 'sigmoid', input_shape=[input_size]))\n",
    "model.compile(loss = losses.mse, optimizer = optimizers.SGD(lr = rate), metrics = ['accuracy'])"
   ]
  },
  {
   "cell_type": "code",
   "execution_count": null,
   "metadata": {
    "collapsed": true
   },
   "outputs": [],
   "source": [
    "#print_weights = callbacks.LambdaCallback(on_epoch_end=lambda batch, logs: print(model.layers[0].get_weights()))\n",
    "history = model.fit(X, Y, batch_size = batch_size, epochs = epochs, verbose = 0, validation_split = validation_split)#, callbacks = [print_weights])"
   ]
  },
  {
   "cell_type": "code",
   "execution_count": null,
   "metadata": {
    "collapsed": true
   },
   "outputs": [],
   "source": [
    "plt.figure(1)\n",
    "plt.subplot(211)\n",
    "plt.plot(history.history['acc'])\n",
    "plt.plot(history.history['val_acc'])\n",
    "plt.title('model accuracy')\n",
    "plt.ylabel('accuracy')\n",
    "plt.xlabel('epoch')\n",
    "plt.legend(['train', 'test'], loc='best')\n",
    "\n",
    "plt.subplot(212)\n",
    "plt.plot(history.history['loss'])\n",
    "plt.plot(history.history['val_loss'])\n",
    "plt.title('model loss')\n",
    "plt.ylabel('loss')\n",
    "plt.xlabel('epoch')\n",
    "plt.legend(['train', 'test'], loc='best')\n",
    "plt.tight_layout()\n",
    "plt.show()"
   ]
  },
  {
   "cell_type": "code",
   "execution_count": null,
   "metadata": {
    "collapsed": true
   },
   "outputs": [],
   "source": [
    "score = model.evaluate(X, Y, batch_size = batch_size, verbose = 1)\n",
    "print('Test loss:', score[0])\n",
    "print('Test accuracy:', score[1])"
   ]
  },
  {
   "cell_type": "code",
   "execution_count": null,
   "metadata": {
    "collapsed": true
   },
   "outputs": [],
   "source": []
  },
  {
   "cell_type": "code",
   "execution_count": null,
   "metadata": {
    "collapsed": true
   },
   "outputs": [],
   "source": []
  }
 ],
 "metadata": {
  "kernelspec": {
   "display_name": "Python 3",
   "language": "python",
   "name": "python3"
  },
  "language_info": {
   "codemirror_mode": {
    "name": "ipython",
    "version": 3
   },
   "file_extension": ".py",
   "mimetype": "text/x-python",
   "name": "python",
   "nbconvert_exporter": "python",
   "pygments_lexer": "ipython3",
   "version": "3.6.3"
  }
 },
 "nbformat": 4,
 "nbformat_minor": 2
}
